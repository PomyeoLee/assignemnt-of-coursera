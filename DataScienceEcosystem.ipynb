{
 "cells": [
  {
   "cell_type": "markdown",
   "id": "de43e696",
   "metadata": {},
   "source": [
    "# Data Science Tools and Ecosystem"
   ]
  },
  {
   "cell_type": "markdown",
   "id": "e599ff7d",
   "metadata": {},
   "source": [
    "In this notebook, Data Science Tools and Ecosystem are summarized."
   ]
  },
  {
   "cell_type": "markdown",
   "id": "5903d2b7",
   "metadata": {},
   "source": [
    "Objectives:\n",
    "\n",
    "List popular languages for Data Science.\n",
    "Identify commonly used libraries for Data Science.\n",
    "Perform data manipulation and analysis using Pandas.\n",
    "Visualize data using Matplotlib and Seaborn.\n",
    "Train and evaluate machine learning models using Scikit-learn."
   ]
  },
  {
   "cell_type": "markdown",
   "id": "283c0a9b",
   "metadata": {},
   "source": [
    "Some of the popular languages that Data Scientists use are:Python.,R,SQL"
   ]
  },
  {
   "cell_type": "markdown",
   "id": "1fc1755c",
   "metadata": {},
   "source": [
    "Some of the commonly used libraries used by Data Scientists include:Numpy, Panda, ,Seaborn"
   ]
  },
  {
   "cell_type": "markdown",
   "id": "68cc3e23",
   "metadata": {},
   "source": [
    "Data Science Tools\n",
    "Jupyter Notebook\n",
    "RStudio\n",
    "Spyder"
   ]
  },
  {
   "cell_type": "markdown",
   "id": "a4c11e1d",
   "metadata": {},
   "source": [
    "### Below are a few examples of evaluating arithmetic expressions in Python."
   ]
  },
  {
   "cell_type": "code",
   "execution_count": 1,
   "id": "3f57b32e",
   "metadata": {},
   "outputs": [
    {
     "data": {
      "text/plain": [
       "17"
      ]
     },
     "execution_count": 1,
     "metadata": {},
     "output_type": "execute_result"
    }
   ],
   "source": [
    "#This a simple arithmetic expression to mutiply then add integers.\n",
    "(3*4)+5"
   ]
  },
  {
   "cell_type": "code",
   "execution_count": 3,
   "id": "7dbe98b1",
   "metadata": {},
   "outputs": [
    {
     "data": {
      "text/plain": [
       "3.3333333333333335"
      ]
     },
     "execution_count": 3,
     "metadata": {},
     "output_type": "execute_result"
    }
   ],
   "source": [
    "#This will convert 200 minutes to hours by diving by 60\n",
    "200/60"
   ]
  },
  {
   "cell_type": "markdown",
   "id": "cb474371",
   "metadata": {},
   "source": [
    "## Author\n",
    "Pengyao Li"
   ]
  }
 ],
 "metadata": {
  "kernelspec": {
   "display_name": "Python 3 (ipykernel)",
   "language": "python",
   "name": "python3"
  },
  "language_info": {
   "codemirror_mode": {
    "name": "ipython",
    "version": 3
   },
   "file_extension": ".py",
   "mimetype": "text/x-python",
   "name": "python",
   "nbconvert_exporter": "python",
   "pygments_lexer": "ipython3",
   "version": "3.9.13"
  }
 },
 "nbformat": 4,
 "nbformat_minor": 5
}
